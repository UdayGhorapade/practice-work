{
  "nbformat": 4,
  "nbformat_minor": 0,
  "metadata": {
    "colab": {
      "name": "face mask detection.ipynb",
      "provenance": [],
      "collapsed_sections": [],
      "mount_file_id": "1EOpH1QfGcY3trII-Hcf0VbXPk8DO6gir",
      "authorship_tag": "ABX9TyMQGhp2Q6PtBFauii0ndkxP",
      "include_colab_link": true
    },
    "kernelspec": {
      "name": "python3",
      "display_name": "Python 3"
    },
    "language_info": {
      "name": "python"
    }
  },
  "cells": [
    {
      "cell_type": "markdown",
      "metadata": {
        "id": "view-in-github",
        "colab_type": "text"
      },
      "source": [
        "<a href=\"https://colab.research.google.com/github/UdayGhorapade/practice-work/blob/main/face_mask_detection.ipynb\" target=\"_parent\"><img src=\"https://colab.research.google.com/assets/colab-badge.svg\" alt=\"Open In Colab\"/></a>"
      ]
    },
    {
      "cell_type": "code",
      "execution_count": 2,
      "metadata": {
        "colab": {
          "base_uri": "https://localhost:8080/"
        },
        "id": "40wDPPH0E1-X",
        "outputId": "1803080e-6614-4892-f5b9-59e8e26fd0cc"
      },
      "outputs": [
        {
          "output_type": "stream",
          "name": "stdout",
          "text": [
            "{'with_mask': 0, 'without_mask': 1}\n",
            "['with_mask', 'without_mask']\n",
            "[0, 1]\n"
          ]
        }
      ],
      "source": [
        "import cv2,os\n",
        "\n",
        "data_path='/content/drive/MyDrive/dataset'\n",
        "categories=os.listdir(data_path)\n",
        "labels=[i for i in range(len(categories))]\n",
        "\n",
        "label_dict=dict(zip(categories,labels)) #empty dictionary\n",
        "\n",
        "print(label_dict)\n",
        "print(categories)\n",
        "print(labels)"
      ]
    },
    {
      "cell_type": "code",
      "source": [
        "img_size=100\n",
        "data=[]\n",
        "target=[]\n",
        "\n",
        "\n",
        "for category in categories:\n",
        "    folder_path=os.path.join(data_path,category)\n",
        "    img_names=os.listdir(folder_path)\n",
        "        \n",
        "    for img_name in img_names:\n",
        "        img_path=os.path.join(folder_path,img_name)\n",
        "        img=cv2.imread(img_path)\n",
        "\n",
        "        try:\n",
        "            gray=cv2.cvtColor(img,cv2.COLOR_BGR2GRAY)           \n",
        "            #Coverting the image into gray scale\n",
        "            resized=cv2.resize(gray,(img_size,img_size))\n",
        "            #resizing the gray scale into 50x50, since we need a fixed common size for all the images in the dataset\n",
        "            data.append(resized)\n",
        "            target.append(label_dict[category])\n",
        "            #appending the image and the label(categorized) into the list (dataset)\n",
        "\n",
        "        except Exception as e:\n",
        "            print('Exception:',e)\n",
        "            #if any exception rasied, the exception will be printed here. And pass to the next image"
      ],
      "metadata": {
        "id": "TDCc3Ua1Ffog"
      },
      "execution_count": 3,
      "outputs": []
    },
    {
      "cell_type": "code",
      "source": [
        "import numpy as np\n",
        "\n",
        "data=np.array(data)/255.0\n",
        "data=np.reshape(data,(data.shape[0],img_size,img_size,1))\n",
        "target=np.array(target)\n",
        "\n",
        "from keras.utils import np_utils\n",
        "\n",
        "new_target=np_utils.to_categorical(target)"
      ],
      "metadata": {
        "id": "37TxbSUIFyiM"
      },
      "execution_count": 4,
      "outputs": []
    },
    {
      "cell_type": "code",
      "source": [
        "np.save('data',data)\n",
        "np.save('target',new_target)"
      ],
      "metadata": {
        "id": "8Z_Q1oZ2F3IX"
      },
      "execution_count": 5,
      "outputs": []
    },
    {
      "cell_type": "code",
      "source": [
        "import numpy as np\n",
        "\n",
        "data=np.load('data.npy')\n",
        "target=np.load('target.npy')\n",
        "\n",
        "#loading the save numpy arrays in the previous code"
      ],
      "metadata": {
        "id": "YOUxHrttF8X2"
      },
      "execution_count": 6,
      "outputs": []
    },
    {
      "cell_type": "code",
      "source": [
        "from keras.models import Sequential\n",
        "from keras.layers import Dense,Activation,Flatten,Dropout\n",
        "from keras.layers import Conv2D,MaxPooling2D\n",
        "from keras.callbacks import ModelCheckpoint\n",
        "\n",
        "model=Sequential()\n",
        "\n",
        "model.add(Conv2D(200,(3,3),input_shape=data.shape[1:]))\n",
        "model.add(Activation('relu'))\n",
        "model.add(MaxPooling2D(pool_size=(2,2)))\n",
        "#The first CNN layer followed by Relu and MaxPooling layers\n",
        "\n",
        "model.add(Conv2D(100,(3,3)))\n",
        "model.add(Activation('relu'))\n",
        "model.add(MaxPooling2D(pool_size=(2,2)))\n",
        "#The second convolution layer followed by Relu and MaxPooling layers\n",
        "\n",
        "model.add(Flatten())\n",
        "model.add(Dropout(0.5))\n",
        "#Flatten layer to stack the output convolutions from second convolution layer\n",
        "model.add(Dense(50,activation='relu'))\n",
        "#Dense layer of 64 neurons\n",
        "model.add(Dense(2,activation='softmax'))\n",
        "#The Final layer with two outputs for two categories\n",
        "\n",
        "model.compile(loss='categorical_crossentropy',optimizer='adam',metrics=['accuracy'])"
      ],
      "metadata": {
        "id": "lJGAv6diGBO-"
      },
      "execution_count": 7,
      "outputs": []
    },
    {
      "cell_type": "code",
      "source": [
        "from sklearn.model_selection import train_test_split\n",
        "\n",
        "train_data,test_data,train_target,test_target=train_test_split(data,target,test_size=0.1)"
      ],
      "metadata": {
        "id": "TN8v0z2xGF-7"
      },
      "execution_count": 8,
      "outputs": []
    },
    {
      "cell_type": "code",
      "source": [
        "checkpoint = ModelCheckpoint('model-{epoch:03d}.model',monitor='val_loss',verbose=0,save_best_only=True,mode='auto')\n",
        "history=model.fit(train_data,train_target,epochs=20,callbacks=[checkpoint],validation_split=0.2)"
      ],
      "metadata": {
        "colab": {
          "base_uri": "https://localhost:8080/"
        },
        "id": "t-3gHASqGJYt",
        "outputId": "7962c861-14bc-4945-8907-5440ef4470b8"
      },
      "execution_count": 9,
      "outputs": [
        {
          "output_type": "stream",
          "name": "stdout",
          "text": [
            "Epoch 1/20\n",
            "36/36 [==============================] - ETA: 0s - loss: 0.7134 - accuracy: 0.5466INFO:tensorflow:Assets written to: model-001.model/assets\n",
            "36/36 [==============================] - 92s 3s/step - loss: 0.7134 - accuracy: 0.5466 - val_loss: 0.6766 - val_accuracy: 0.4599\n",
            "Epoch 2/20\n",
            "36/36 [==============================] - ETA: 0s - loss: 0.6079 - accuracy: 0.6513INFO:tensorflow:Assets written to: model-002.model/assets\n",
            "36/36 [==============================] - 102s 3s/step - loss: 0.6079 - accuracy: 0.6513 - val_loss: 0.5111 - val_accuracy: 0.8049\n",
            "Epoch 3/20\n",
            "36/36 [==============================] - ETA: 0s - loss: 0.5065 - accuracy: 0.7655INFO:tensorflow:Assets written to: model-003.model/assets\n",
            "36/36 [==============================] - 94s 3s/step - loss: 0.5065 - accuracy: 0.7655 - val_loss: 0.5038 - val_accuracy: 0.7596\n",
            "Epoch 4/20\n",
            "36/36 [==============================] - ETA: 0s - loss: 0.4041 - accuracy: 0.8204INFO:tensorflow:Assets written to: model-004.model/assets\n",
            "36/36 [==============================] - 90s 3s/step - loss: 0.4041 - accuracy: 0.8204 - val_loss: 0.3800 - val_accuracy: 0.8223\n",
            "Epoch 5/20\n",
            "36/36 [==============================] - ETA: 0s - loss: 0.3758 - accuracy: 0.8387INFO:tensorflow:Assets written to: model-005.model/assets\n",
            "36/36 [==============================] - 95s 3s/step - loss: 0.3758 - accuracy: 0.8387 - val_loss: 0.3170 - val_accuracy: 0.8606\n",
            "Epoch 6/20\n",
            "36/36 [==============================] - ETA: 0s - loss: 0.2425 - accuracy: 0.8963INFO:tensorflow:Assets written to: model-006.model/assets\n",
            "36/36 [==============================] - 91s 3s/step - loss: 0.2425 - accuracy: 0.8963 - val_loss: 0.2953 - val_accuracy: 0.8571\n",
            "Epoch 7/20\n",
            "36/36 [==============================] - ETA: 0s - loss: 0.2145 - accuracy: 0.9137INFO:tensorflow:Assets written to: model-007.model/assets\n",
            "36/36 [==============================] - 89s 2s/step - loss: 0.2145 - accuracy: 0.9137 - val_loss: 0.2435 - val_accuracy: 0.9024\n",
            "Epoch 8/20\n",
            "36/36 [==============================] - 88s 2s/step - loss: 0.1499 - accuracy: 0.9468 - val_loss: 0.3261 - val_accuracy: 0.8815\n",
            "Epoch 9/20\n",
            "36/36 [==============================] - 88s 2s/step - loss: 0.1293 - accuracy: 0.9520 - val_loss: 0.3528 - val_accuracy: 0.8711\n",
            "Epoch 10/20\n",
            "36/36 [==============================] - 88s 2s/step - loss: 0.1032 - accuracy: 0.9599 - val_loss: 0.2909 - val_accuracy: 0.8885\n",
            "Epoch 11/20\n",
            "36/36 [==============================] - 88s 2s/step - loss: 0.0953 - accuracy: 0.9634 - val_loss: 0.3660 - val_accuracy: 0.8676\n",
            "Epoch 12/20\n",
            "36/36 [==============================] - 88s 2s/step - loss: 0.0614 - accuracy: 0.9799 - val_loss: 0.3562 - val_accuracy: 0.8815\n",
            "Epoch 13/20\n",
            "36/36 [==============================] - 88s 2s/step - loss: 0.0437 - accuracy: 0.9861 - val_loss: 0.4094 - val_accuracy: 0.8711\n",
            "Epoch 14/20\n",
            "36/36 [==============================] - 88s 2s/step - loss: 0.0524 - accuracy: 0.9826 - val_loss: 0.3384 - val_accuracy: 0.8850\n",
            "Epoch 15/20\n",
            "36/36 [==============================] - 88s 2s/step - loss: 0.0378 - accuracy: 0.9852 - val_loss: 0.3912 - val_accuracy: 0.8780\n",
            "Epoch 16/20\n",
            "36/36 [==============================] - 88s 2s/step - loss: 0.0361 - accuracy: 0.9869 - val_loss: 0.4485 - val_accuracy: 0.8571\n",
            "Epoch 17/20\n",
            "36/36 [==============================] - 88s 2s/step - loss: 0.0364 - accuracy: 0.9895 - val_loss: 0.3869 - val_accuracy: 0.8676\n",
            "Epoch 18/20\n",
            "36/36 [==============================] - 88s 2s/step - loss: 0.0202 - accuracy: 0.9939 - val_loss: 0.4388 - val_accuracy: 0.8746\n",
            "Epoch 19/20\n",
            "36/36 [==============================] - 88s 2s/step - loss: 0.0296 - accuracy: 0.9878 - val_loss: 0.5205 - val_accuracy: 0.8676\n",
            "Epoch 20/20\n",
            "36/36 [==============================] - 88s 2s/step - loss: 0.0322 - accuracy: 0.9887 - val_loss: 0.5149 - val_accuracy: 0.8641\n"
          ]
        }
      ]
    },
    {
      "cell_type": "code",
      "source": [
        "from matplotlib import pyplot as plt\n",
        "\n",
        "plt.plot(history.history['loss'],'r',label='training loss')\n",
        "plt.plot(history.history['val_loss'],label='validation loss')\n",
        "plt.xlabel('# epochs')\n",
        "plt.ylabel('loss')\n",
        "plt.legend()\n",
        "plt.show()"
      ],
      "metadata": {
        "colab": {
          "base_uri": "https://localhost:8080/",
          "height": 279
        },
        "id": "NwfOwuAsGuM_",
        "outputId": "4f9c5da3-c940-43b0-a21a-c62d57a8c40f"
      },
      "execution_count": 10,
      "outputs": [
        {
          "output_type": "display_data",
          "data": {
            "text/plain": [
              "<Figure size 432x288 with 1 Axes>"
            ],
            "image/png": "[encoded data removed]"
          },
          "metadata": {
            "needs_background": "light"
          }
        }
      ]
    },
    {
      "cell_type": "code",
      "source": [
        "plt.plot(history.history['accuracy'],'r',label='training accuracy')\n",
        "plt.plot(history.history['val_accuracy'],label='validation accuracy')\n",
        "plt.xlabel('# epochs')\n",
        "plt.ylabel('loss')\n",
        "plt.legend()\n",
        "plt.show()"
      ],
      "metadata": {
        "colab": {
          "base_uri": "https://localhost:8080/",
          "height": 279
        },
        "id": "PYrsaE00Gx8X",
        "outputId": "6627d51a-e672-4cc5-8232-2d04dcf22795"
      },
      "execution_count": 11,
      "outputs": [
        {
          "output_type": "display_data",
          "data": {
            "text/plain": [
              "<Figure size 432x288 with 1 Axes>"
            ],
            "image/png": "[encoded data removed]"
          },
          "metadata": {
            "needs_background": "light"
          }
        }
      ]
    },
    {
      "cell_type": "code",
      "source": [
        "print(model.evaluate(test_data,test_target))"
      ],
      "metadata": {
        "colab": {
          "base_uri": "https://localhost:8080/"
        },
        "id": "jl1hsBLHG1Zj",
        "outputId": "c1b98f75-e082-4478-925f-c735790a105a"
      },
      "execution_count": 14,
      "outputs": [
        {
          "output_type": "stream",
          "name": "stdout",
          "text": [
            "5/5 [==============================] - 6s 1s/step - loss: 0.3309 - accuracy: 0.9125\n",
            "[0.33094367384910583, 0.9125000238418579]\n"
          ]
        }
      ]
    },
    {
      "cell_type": "code",
      "source": [
        "from keras.models import load_model\n",
        "import cv2\n",
        "import numpy as np"
      ],
      "metadata": {
        "id": "Yt_GmFQXH0tw"
      },
      "execution_count": 15,
      "outputs": []
    },
    {
      "cell_type": "code",
      "source": [
        "model = load_model('model-017.model')\n",
        "\n",
        "face_clsfr=cv2.CascadeClassifier('haarcascade_frontalface_default.xml')\n",
        "\n",
        "source=cv2.VideoCapture(2)\n",
        "\n",
        "labels_dict={0:'MASK',1:'NO MASK'}\n",
        "color_dict={0:(0,255,0),1:(0,0,255)}"
      ],
      "metadata": {
        "id": "ypm_q9_KH3xN"
      },
      "execution_count": 17,
      "outputs": []
    },
    {
      "cell_type": "code",
      "source": [
        "while(True):\n",
        "\n",
        "    ret,img=source.read()\n",
        "    gray=cv2.cvtColor(img,cv2.COLOR_BGR2GRAY)\n",
        "    faces=face_clsfr.detectMultiScale(gray,1.3,5)  \n",
        "\n",
        "    for (x,y,w,h) in faces:\n",
        "    \n",
        "        face_img=gray[y:y+w,x:x+w]\n",
        "        resized=cv2.resize(face_img,(100,100))\n",
        "        normalized=resized/255.0\n",
        "        reshaped=np.reshape(normalized,(1,100,100,1))\n",
        "        result=model.predict(reshaped)\n",
        "\n",
        "        label=np.argmax(result,axis=1)[0]\n",
        "      \n",
        "        cv2.rectangle(img,(x,y),(x+w,y+h),color_dict[label],2)\n",
        "        cv2.rectangle(img,(x,y-40),(x+w,y),color_dict[label],-1)\n",
        "        cv2.putText(img, labels_dict[label], (x, y-10),cv2.FONT_HERSHEY_SIMPLEX,0.8,(255,255,255),2)\n",
        "        \n",
        "        \n",
        "    cv2.imshow('LIVE',img)\n",
        "    key=cv2.waitKey(1)\n",
        "    \n",
        "    if(key==27):\n",
        "        break\n",
        "        \n",
        "cv2.destroyAllWindows()\n",
        "source.release()"
      ],
      "metadata": {
        "colab": {
          "base_uri": "https://localhost:8080/",
          "height": 252
        },
        "id": "Mushj3epH8Rr",
        "outputId": "5ddbfb18-ad84-4c12-9f6a-d570f7e35da1"
      },
      "execution_count": 18,
      "outputs": [
        {
          "output_type": "error",
          "ename": "error",
          "evalue": "ignored",
          "traceback": [
            "\u001b[0;31m---------------------------------------------------------------------------\u001b[0m",
            "\u001b[0;31merror\u001b[0m                                     Traceback (most recent call last)",
            "\u001b[0;32m<ipython-input-18-081f08ac924b>\u001b[0m in \u001b[0;36m<module>\u001b[0;34m()\u001b[0m\n\u001b[1;32m      2\u001b[0m \u001b[0;34m\u001b[0m\u001b[0m\n\u001b[1;32m      3\u001b[0m     \u001b[0mret\u001b[0m\u001b[0;34m,\u001b[0m\u001b[0mimg\u001b[0m\u001b[0;34m=\u001b[0m\u001b[0msource\u001b[0m\u001b[0;34m.\u001b[0m\u001b[0mread\u001b[0m\u001b[0;34m(\u001b[0m\u001b[0;34m)\u001b[0m\u001b[0;34m\u001b[0m\u001b[0;34m\u001b[0m\u001b[0m\n\u001b[0;32m----> 4\u001b[0;31m     \u001b[0mgray\u001b[0m\u001b[0;34m=\u001b[0m\u001b[0mcv2\u001b[0m\u001b[0;34m.\u001b[0m\u001b[0mcvtColor\u001b[0m\u001b[0;34m(\u001b[0m\u001b[0mimg\u001b[0m\u001b[0;34m,\u001b[0m\u001b[0mcv2\u001b[0m\u001b[0;34m.\u001b[0m\u001b[0mCOLOR_BGR2GRAY\u001b[0m\u001b[0;34m)\u001b[0m\u001b[0;34m\u001b[0m\u001b[0;34m\u001b[0m\u001b[0m\n\u001b[0m\u001b[1;32m      5\u001b[0m     \u001b[0mfaces\u001b[0m\u001b[0;34m=\u001b[0m\u001b[0mface_clsfr\u001b[0m\u001b[0;34m.\u001b[0m\u001b[0mdetectMultiScale\u001b[0m\u001b[0;34m(\u001b[0m\u001b[0mgray\u001b[0m\u001b[0;34m,\u001b[0m\u001b[0;36m1.3\u001b[0m\u001b[0;34m,\u001b[0m\u001b[0;36m5\u001b[0m\u001b[0;34m)\u001b[0m\u001b[0;34m\u001b[0m\u001b[0;34m\u001b[0m\u001b[0m\n\u001b[1;32m      6\u001b[0m \u001b[0;34m\u001b[0m\u001b[0m\n",
            "\u001b[0;31merror\u001b[0m: OpenCV(4.1.2) /io/opencv/modules/imgproc/src/color.cpp:182: error: (-215:Assertion failed) !_src.empty() in function 'cvtColor'\n"
          ]
        }
      ]
    }
  ]
}