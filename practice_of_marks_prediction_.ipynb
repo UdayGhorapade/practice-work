{
  "nbformat": 4,
  "nbformat_minor": 0,
  "metadata": {
    "colab": {
      "name": "practice of marks prediction .ipynb",
      "provenance": [],
      "authorship_tag": "ABX9TyNeE5EQKbUedtOQg05o8M4i",
      "include_colab_link": true
    },
    "kernelspec": {
      "name": "python3",
      "display_name": "Python 3"
    },
    "language_info": {
      "name": "python"
    }
  },
  "cells": [
    {
      "cell_type": "markdown",
      "metadata": {
        "id": "view-in-github",
        "colab_type": "text"
      },
      "source": [
        "<a href=\"https://colab.research.google.com/github/UdayGhorapade/practice-work/blob/main/practice_of_marks_prediction_.ipynb\" target=\"_parent\"><img src=\"https://colab.research.google.com/assets/colab-badge.svg\" alt=\"Open In Colab\"/></a>"
      ]
    },
    {
      "cell_type": "code",
      "execution_count": 5,
      "metadata": {
        "id": "1uyif4fTUsxk"
      },
      "outputs": [],
      "source": [
        "import csv\n",
        "import pandas as pd\n",
        "\n",
        "# add header names\n",
        "headers =  ['S1','S2','S3','S4','S5','S6']\n",
        "\n",
        "df = pd.read_csv('/content/marks.csv')\n",
        "\n",
        "df.head()\n",
        "df[\"Result\"] = [\"Pass\" if Total >=80 else \"Fail\" for Total in df[\"Total\"]]\n",
        "df['Result'] = df['Result'].replace(\"Fail\", 0)\n",
        "df['Result'] = df['Result'].replace(\"Pass\", 1)"
      ]
    },
    {
      "cell_type": "code",
      "source": [
        "import numpy as np\n",
        "import warnings\n",
        "warnings.filterwarnings(\"ignore\") #suppress warnings\n",
        "import matplotlib.pyplot as plt\n",
        "from sklearn.model_selection import train_test_split\n",
        "from sklearn.preprocessing import StandardScaler\n",
        "\n",
        "#convert imput to numpy arrays\n",
        "X = df.drop(columns=['Result','Total'])\n",
        "\n",
        "\n",
        "y_label = df['Result'].values.reshape(X.shape[0], 1)\n",
        "\n",
        "#split data into train and test set\n",
        "Xtrain, Xtest, ytrain, ytest = train_test_split(X, y_label, test_size=0.2, random_state=2)\n",
        "\n",
        "#standardize the dataset\n",
        "sc = StandardScaler()\n",
        "sc.fit(Xtrain)\n",
        "Xtrain = sc.transform(Xtrain)\n",
        "Xtest = sc.transform(Xtest)\n",
        "\n",
        "print(f\"Shape of train set is {Xtrain.shape}\")\n",
        "print(f\"Shape of test set is {Xtest.shape}\")\n",
        "print(f\"Shape of train label is {ytrain.shape}\")\n",
        "print(f\"Shape of test labels is {ytest.shape}\")\n",
        "\n",
        "\n"
      ],
      "metadata": {
        "colab": {
          "base_uri": "https://localhost:8080/"
        },
        "id": "MbNwRj9lVKn6",
        "outputId": "f5aec701-e38c-4005-b97a-e0b9241f9f01"
      },
      "execution_count": 7,
      "outputs": [
        {
          "output_type": "stream",
          "name": "stdout",
          "text": [
            "Shape of train set is (7, 6)\n",
            "Shape of test set is (2, 6)\n",
            "Shape of train label is (7, 1)\n",
            "Shape of test labels is (2, 1)\n"
          ]
        }
      ]
    },
    {
      "cell_type": "code",
      "source": [
        "\n",
        "class NeuralNet():\n",
        "    '''\n",
        "    A two layer neural network\n",
        "    '''\n",
        "        \n",
        "    def __init__(self, layers=[6,3,1], learning_rate=0.001, iterations=100):\n",
        "        self.params = {}\n",
        "        self.learning_rate = learning_rate\n",
        "        self.iterations = iterations\n",
        "        self.loss = []\n",
        "        self.sample_size = None\n",
        "        self.layers = layers\n",
        "        self.X = None\n",
        "        self.y = None\n",
        "                \n",
        "    def init_weights(self):\n",
        "        '''\n",
        "        Initialize the weights from a random normal distribution\n",
        "        '''\n",
        "        np.random.seed(1) # Seed the random number generator\n",
        "        self.params[\"W1\"] = np.random.randn(self.layers[0], self.layers[1]) \n",
        "        self.params['b1']  =np.random.randn(self.layers[1],)\n",
        "        self.params['W2'] = np.random.randn(self.layers[1],self.layers[2]) \n",
        "        self.params['b2'] = np.random.randn(self.layers[2],)\n",
        "    \n",
        "    def relu(self,Z):\n",
        "        '''\n",
        "        The ReLu activation function is to performs a threshold\n",
        "        operation to each input element where values less \n",
        "        than zero are set to zero.\n",
        "        '''\n",
        "        return np.maximum(0,Z)\n",
        "\n",
        "    def dRelu(self, x):\n",
        "        x[x<=0] = 0\n",
        "        x[x>0] = 1\n",
        "        return x\n",
        "\n",
        "    def eta(self, x):\n",
        "      ETA = 0.0000000001\n",
        "      return np.maximum(x, ETA)\n",
        "\n",
        "\n",
        "    def sigmoid(self,Z):\n",
        "        '''\n",
        "        The sigmoid function takes in real numbers in any range and \n",
        "        squashes it to a real-valued output between 0 and 1.\n",
        "        '''\n",
        "        return 1/(1+np.exp(-Z))\n",
        "\n",
        "    def entropy_loss(self,y, yhat):\n",
        "        nsample = len(y)\n",
        "        yhat_inv = 1.0 - yhat\n",
        "        y_inv = 1.0 - y\n",
        "        yhat = self.eta(yhat) ## clips value to avoid NaNs in log\n",
        "        yhat_inv = self.eta(yhat_inv) \n",
        "        loss = -1/nsample * (np.sum(np.multiply(np.log(yhat), y) + np.multiply((y_inv), np.log(yhat_inv))))\n",
        "        return loss\n",
        "\n",
        "    def forward_propagation(self):\n",
        "        '''\n",
        "        Performs the forward propagation\n",
        "        '''\n",
        "        \n",
        "        Z1 = self.X.dot(self.params['W1']) + self.params['b1']\n",
        "        A1 = self.relu(Z1)\n",
        "        Z2 = A1.dot(self.params['W2']) + self.params['b2']\n",
        "        yhat = self.sigmoid(Z2)\n",
        "        loss = self.entropy_loss(self.y,yhat)\n",
        "\n",
        "        # save calculated parameters     \n",
        "        self.params['Z1'] = Z1\n",
        "        self.params['Z2'] = Z2\n",
        "        self.params['A1'] = A1\n",
        "\n",
        "        return yhat,loss\n",
        "\n",
        "    def back_propagation(self,yhat):\n",
        "        '''\n",
        "        Computes the derivatives and update weights and bias according.\n",
        "        '''\n",
        "        y_inv = 1 - self.y\n",
        "        yhat_inv = 1 - yhat\n",
        "\n",
        "        dl_wrt_yhat = np.divide(y_inv, self.eta(yhat_inv)) - np.divide(self.y, self.eta(yhat))\n",
        "        dl_wrt_sig = yhat * (yhat_inv)\n",
        "        dl_wrt_z2 = dl_wrt_yhat * dl_wrt_sig\n",
        "\n",
        "        dl_wrt_A1 = dl_wrt_z2.dot(self.params['W2'].T)\n",
        "        dl_wrt_w2 = self.params['A1'].T.dot(dl_wrt_z2)\n",
        "        dl_wrt_b2 = np.sum(dl_wrt_z2, axis=0, keepdims=True)\n",
        "\n",
        "        dl_wrt_z1 = dl_wrt_A1 * self.dRelu(self.params['Z1'])\n",
        "        dl_wrt_w1 = self.X.T.dot(dl_wrt_z1)\n",
        "        dl_wrt_b1 = np.sum(dl_wrt_z1, axis=0, keepdims=True)\n",
        "\n",
        "        #update the weights and bias\n",
        "        self.params['W1'] = self.params['W1'] - self.learning_rate * dl_wrt_w1\n",
        "        self.params['W2'] = self.params['W2'] - self.learning_rate * dl_wrt_w2\n",
        "        self.params['b1'] = self.params['b1'] - self.learning_rate * dl_wrt_b1\n",
        "        self.params['b2'] = self.params['b2'] - self.learning_rate * dl_wrt_b2\n",
        "\n",
        "    def fit(self, X, y):\n",
        "        '''\n",
        "        Trains the neural network using the specified data and labels\n",
        "        '''\n",
        "        self.X = X\n",
        "        self.y = y\n",
        "        self.init_weights() #initialize weights and bias\n",
        "\n",
        "\n",
        "        for i in range(self.iterations):\n",
        "            yhat, loss = self.forward_propagation()\n",
        "            self.back_propagation(yhat)\n",
        "            self.loss.append(loss)\n",
        "\n",
        "    def predict(self, X):\n",
        "        '''\n",
        "        Predicts on a test data\n",
        "        '''\n",
        "        Z1 = X.dot(self.params['W1']) + self.params['b1']\n",
        "        A1 = self.relu(Z1)\n",
        "        Z2 = A1.dot(self.params['W2']) + self.params['b2']\n",
        "        pred = self.sigmoid(Z2)\n",
        "        return np.round(pred) \n",
        "\n",
        "    def acc(self, y, yhat):\n",
        "        '''\n",
        "        Calculates the accutacy between the predicted valuea and the truth labels\n",
        "        '''\n",
        "        acc = int(sum(y == yhat) / len(y) * 100)\n",
        "        return acc\n",
        "\n",
        "\n",
        "    def plot_loss(self):\n",
        "        '''\n",
        "        Plots the loss curve\n",
        "        '''\n",
        "        plt.plot(self.loss)\n",
        "        plt.xlabel(\"Iteration\")\n",
        "        plt.ylabel(\"logloss\")\n",
        "        plt.title(\"Loss curve for training\")\n",
        "        plt.show()  \n",
        "nn = NeuralNet() # create the NN model\n",
        "nn.fit(Xtrain, ytrain) #train the model\n",
        "nn.plot_loss()\n",
        "nn.predict(Xtest)"
      ],
      "metadata": {
        "colab": {
          "base_uri": "https://localhost:8080/",
          "height": 330
        },
        "id": "REC7bv3FWzNL",
        "outputId": "038a4f2e-db07-4510-ccf5-8603c1dd0663"
      },
      "execution_count": 13,
      "outputs": [
        {
          "output_type": "display_data",
          "data": {
            "text/plain": [
              "<Figure size 432x288 with 1 Axes>"
            ],
            "image/png": "[encoded data removed]"
          },
          "metadata": {
            "needs_background": "light"
          }
        },
        {
          "output_type": "execute_result",
          "data": {
            "text/plain": [
              "array([[1.],\n",
              "       [1.]])"
            ]
          },
          "metadata": {},
          "execution_count": 13
        }
      ]
    },
    {
      "cell_type": "code",
      "source": [
        ""
      ],
      "metadata": {
        "id": "9yXw_a6GU6eb"
      },
      "execution_count": null,
      "outputs": []
    }
  ]
}