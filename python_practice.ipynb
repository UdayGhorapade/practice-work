{
  "nbformat": 4,
  "nbformat_minor": 0,
  "metadata": {
    "colab": {
      "name": "python practice.ipynb",
      "provenance": [],
      "collapsed_sections": [],
      "authorship_tag": "ABX9TyNgCIZkebL+zKcYWccDvPa3",
      "include_colab_link": true
    },
    "kernelspec": {
      "name": "python3",
      "display_name": "Python 3"
    },
    "language_info": {
      "name": "python"
    }
  },
  "cells": [
    {
      "cell_type": "markdown",
      "metadata": {
        "id": "view-in-github",
        "colab_type": "text"
      },
      "source": [
        "<a href=\"https://colab.research.google.com/github/UdayGhorapade/practice-work/blob/main/python_practice.ipynb\" target=\"_parent\"><img src=\"https://colab.research.google.com/assets/colab-badge.svg\" alt=\"Open In Colab\"/></a>"
      ]
    },
    {
      "cell_type": "code",
      "execution_count": 1,
      "metadata": {
        "colab": {
          "base_uri": "https://localhost:8080/"
        },
        "id": "ILJiDIXlkKUL",
        "outputId": "0deeb4e7-9841-45a5-f0f5-66bd64b1312d"
      },
      "outputs": [
        {
          "output_type": "stream",
          "name": "stdout",
          "text": [
            "{'b', 'a'}\n"
          ]
        }
      ],
      "source": [
        "set1={\"a\",3,\"b\",3}\n",
        "\n",
        "set1.remove(3)\n",
        "print(set1)"
      ]
    },
    {
      "cell_type": "code",
      "source": [
        "sampleSet = {\"Yellow\", \"Orange\", \"Black\"}\n",
        "\n",
        "sampleSet.add(\"Blue\")\n",
        "\n",
        "sampleSet.add(\"Orange\")\n",
        "\n",
        "print(sampleSet)"
      ],
      "metadata": {
        "colab": {
          "base_uri": "https://localhost:8080/"
        },
        "id": "RJew9rugkOc6",
        "outputId": "bedb3aff-dde6-402d-b9f4-8ef3dc963256"
      },
      "execution_count": 2,
      "outputs": [
        {
          "output_type": "stream",
          "name": "stdout",
          "text": [
            "{'Orange', 'Black', 'Blue', 'Yellow'}\n"
          ]
        }
      ]
    },
    {
      "cell_type": "code",
      "source": [
        "a={1,2,3}\n",
        "\n",
        "b=a.add(4)\n",
        "\n",
        "b\n",
        "# Nothing is printed"
      ],
      "metadata": {
        "id": "wHSCpHhkkRYF"
      },
      "execution_count": 3,
      "outputs": []
    },
    {
      "cell_type": "code",
      "source": [
        "A = {0, 2, 4, 6, 8}; \n",
        "\n",
        "B = {1, 2, 3, 4, 5}; \n",
        "\n",
        "print(A & B)"
      ],
      "metadata": {
        "colab": {
          "base_uri": "https://localhost:8080/"
        },
        "id": "r7pxeg4JkXVK",
        "outputId": "a60c8e19-06e5-4eff-83ac-642790afced1"
      },
      "execution_count": 4,
      "outputs": [
        {
          "output_type": "stream",
          "name": "stdout",
          "text": [
            "{2, 4}\n"
          ]
        }
      ]
    }
  ]
}