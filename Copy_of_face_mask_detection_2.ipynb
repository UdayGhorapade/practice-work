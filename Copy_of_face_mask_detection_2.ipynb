{
  "nbformat": 4,
  "nbformat_minor": 0,
  "metadata": {
    "colab": {
      "name": "Copy of face mask detection 2.ipynb",
      "provenance": [],
      "collapsed_sections": [],
      "mount_file_id": "1AN9BjsnMM34nM-8MOSkRhPp-n_XwZOO9",
      "authorship_tag": "ABX9TyPICF19tgdm8H9qRFX6jpWN",
      "include_colab_link": true
    },
    "kernelspec": {
      "name": "python3",
      "display_name": "Python 3"
    },
    "language_info": {
      "name": "python"
    }
  },
  "cells": [
    {
      "cell_type": "markdown",
      "metadata": {
        "id": "view-in-github",
        "colab_type": "text"
      },
      "source": [
        "<a href=\"https://colab.research.google.com/github/UdayGhorapade/practice-work/blob/main/Copy_of_face_mask_detection_2.ipynb\" target=\"_parent\"><img src=\"https://colab.research.google.com/assets/colab-badge.svg\" alt=\"Open In Colab\"/></a>"
      ]
    },
    {
      "cell_type": "code",
      "execution_count": null,
      "metadata": {
        "id": "eF0xwKdQHwzu"
      },
      "outputs": [],
      "source": [
        "import os\n",
        "import numpy as np\n",
        "import cv2\n",
        "import matplotlib.pyplot as plt\n",
        "import tensorflow as tf\n",
        "from keras.preprocessing import image\n",
        "from keras.models import Sequential, load_model\n",
        "from keras.layers import Conv2D, MaxPooling2D, SpatialDropout2D, Flatten, Dropout, Dense\n",
        "from keras.preprocessing.image import ImageDataGenerator"
      ]
    },
    {
      "cell_type": "code",
      "source": [
        "data_path='/content/drive/MyDrive/dataset'"
      ],
      "metadata": {
        "id": "VK6q0uzfH052"
      },
      "execution_count": null,
      "outputs": []
    },
    {
      "cell_type": "code",
      "source": [
        "# Normalize the image by deviding by 255\n",
        "train = ImageDataGenerator(rescale=1/255)\n",
        "test = ImageDataGenerator(rescale=1/255)"
      ],
      "metadata": {
        "id": "w_5s8IVZH3qY"
      },
      "execution_count": null,
      "outputs": []
    },
    {
      "cell_type": "code",
      "source": [
        "traindataset = train.flow_from_directory('/content/drive/MyDrive/dataset',\n",
        "                                         target_size = (150,150),\n",
        "                                         batch_size = 16,\n",
        "                                         class_mode = 'binary')\n",
        "testdataset = train.flow_from_directory('/content/drive/MyDrive/dataset',\n",
        "                                         target_size = (150,150),\n",
        "                                         batch_size = 16,\n",
        "                                         class_mode = 'binary')"
      ],
      "metadata": {
        "colab": {
          "base_uri": "https://localhost:8080/"
        },
        "id": "hyQ9A5QjH7y_",
        "outputId": "88a11acc-11b5-4ca3-9b53-28241d5ca7b6"
      },
      "execution_count": null,
      "outputs": [
        {
          "output_type": "stream",
          "name": "stdout",
          "text": [
            "Found 1594 images belonging to 2 classes.\n",
            "Found 1594 images belonging to 2 classes.\n"
          ]
        }
      ]
    },
    {
      "cell_type": "code",
      "source": [
        "model = Sequential()\n",
        "model.add(Conv2D(32,(3,3), activation='relu', input_shape=(150,150,3)))\n",
        "model.add(MaxPooling2D())\n",
        "model.add(Conv2D(32,(3,3), activation='relu'))\n",
        "model.add(MaxPooling2D())\n",
        "model.add(Conv2D(32,(3,3), activation='relu'))\n",
        "model.add(MaxPooling2D())\n",
        "model.add(Flatten())\n",
        "model.add(Dense(100, activation='relu'))\n",
        "model.add(Dense(1, activation='sigmoid'))"
      ],
      "metadata": {
        "id": "LxUeK9h7H-Zl"
      },
      "execution_count": null,
      "outputs": []
    },
    {
      "cell_type": "code",
      "source": [
        "model.compile(optimizer='adam', loss='binary_crossentropy', metrics=['accuracy'])"
      ],
      "metadata": {
        "id": "n6kVF04sICM5"
      },
      "execution_count": null,
      "outputs": []
    },
    {
      "cell_type": "code",
      "source": [
        "model_saved = model.fit_generator(traindataset, epochs=10)"
      ],
      "metadata": {
        "colab": {
          "base_uri": "https://localhost:8080/"
        },
        "id": "6QYGQarxIGVP",
        "outputId": "0df5fa4d-2672-4707-99c5-41f1cc0835b2"
      },
      "execution_count": null,
      "outputs": [
        {
          "output_type": "stream",
          "name": "stderr",
          "text": [
            "/usr/local/lib/python3.7/dist-packages/ipykernel_launcher.py:1: UserWarning: `Model.fit_generator` is deprecated and will be removed in a future version. Please use `Model.fit`, which supports generators.\n",
            "  \"\"\"Entry point for launching an IPython kernel.\n"
          ]
        },
        {
          "output_type": "stream",
          "name": "stdout",
          "text": [
            "Epoch 1/10\n",
            "100/100 [==============================] - 212s 2s/step - loss: 0.3464 - accuracy: 0.8375\n",
            "Epoch 2/10\n",
            "100/100 [==============================] - 48s 475ms/step - loss: 0.2084 - accuracy: 0.9109\n",
            "Epoch 3/10\n",
            "100/100 [==============================] - 46s 461ms/step - loss: 0.1752 - accuracy: 0.9241\n",
            "Epoch 4/10\n",
            "100/100 [==============================] - 49s 489ms/step - loss: 0.1349 - accuracy: 0.9341\n",
            "Epoch 5/10\n",
            "100/100 [==============================] - 49s 487ms/step - loss: 0.0881 - accuracy: 0.9668\n",
            "Epoch 6/10\n",
            "100/100 [==============================] - 48s 483ms/step - loss: 0.0861 - accuracy: 0.9649\n",
            "Epoch 7/10\n",
            "100/100 [==============================] - 47s 465ms/step - loss: 0.0715 - accuracy: 0.9737\n",
            "Epoch 8/10\n",
            "100/100 [==============================] - 46s 460ms/step - loss: 0.0347 - accuracy: 0.9887\n",
            "Epoch 9/10\n",
            "100/100 [==============================] - 46s 461ms/step - loss: 0.0339 - accuracy: 0.9918\n",
            "Epoch 10/10\n",
            "100/100 [==============================] - 46s 456ms/step - loss: 0.0286 - accuracy: 0.9900\n"
          ]
        }
      ]
    },
    {
      "cell_type": "code",
      "source": [
        "prediction = model.predict(testdataset)"
      ],
      "metadata": {
        "id": "hP7w-Ob7IJf8"
      },
      "execution_count": null,
      "outputs": []
    },
    {
      "cell_type": "code",
      "source": [
        "result = prediction[12]\n",
        "print(result)"
      ],
      "metadata": {
        "colab": {
          "base_uri": "https://localhost:8080/"
        },
        "id": "Q6U7ynmUIMBc",
        "outputId": "9bf5a411-a226-46aa-8ec0-055afc412e58"
      },
      "execution_count": null,
      "outputs": [
        {
          "output_type": "stream",
          "name": "stdout",
          "text": [
            "[0.9909178]\n"
          ]
        }
      ]
    },
    {
      "cell_type": "code",
      "source": [
        "haar_data=cv2.CascadeClassifier('data.xml')"
      ],
      "metadata": {
        "id": "Zj-Bc6q8Jx5B"
      },
      "execution_count": null,
      "outputs": []
    },
    {
      "cell_type": "code",
      "source": [
        "Capture=cv2.VideoCapture(0)\n",
        "data=[]\n",
        "font=cv2.FONT_HERSHEY_COMPLEX\n",
        "while True:\n",
        "  flag,img=Capture.read()\n",
        "  if flag:\n",
        "    faces=haar_data.detectMultiScale(img)\n",
        "    for x,y,w,h in faces:\n",
        "      cv2.rectangle(img,(x,y),(x+w,y+h),(255,0,255),4)\n",
        "      face=img[y:y+h,x:x+w,:]\n",
        "      face=cv2.resize(face),(50,50)\n",
        "      face=face.reshape(1,-1)\n",
        "      pred=svm.predict(face)[0]\n",
        "      n=names[int(pred)]\n",
        "      cv2.putText(img,n,(x,y),font,1,(244,250,250),2)\n",
        "      print(n)\n",
        "      cv2.imshow(\"result\",img)\n",
        "      if cv2.waitKey(2)==27:\n",
        "        break\n",
        "capture.release()\n",
        "cv2.destroyAllWindows()\n"
      ],
      "metadata": {
        "id": "zejh_-QGKfFH"
      },
      "execution_count": null,
      "outputs": []
    }
  ]
}